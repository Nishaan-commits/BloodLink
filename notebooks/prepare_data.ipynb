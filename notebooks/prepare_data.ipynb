{
 "cells": [
  {
   "cell_type": "code",
   "execution_count": 1,
   "id": "958e83d2",
   "metadata": {},
   "outputs": [
    {
     "data": {
      "text/plain": [
       "['../data/processed/train_test_split.pkl']"
      ]
     },
     "execution_count": 1,
     "metadata": {},
     "output_type": "execute_result"
    }
   ],
   "source": [
    "import pandas as pd \n",
    "from sklearn.model_selection import train_test_split\n",
    "from sklearn.preprocessing import StandardScaler\n",
    "\n",
    "#Load cleaned data\n",
    "df = pd.read_csv(\"../data/processed/cleaned_data.csv\")\n",
    "\n",
    "# Seperate features and target\n",
    "X = df.drop(\"made_donation\",axis=1)\n",
    "y = df[\"made_donation\"]\n",
    "\n",
    "#Scale numerical features\n",
    "scaler = StandardScaler()\n",
    "X_scaled = scaler.fit_transform(X)\n",
    "\n",
    "#Split data\n",
    "\n",
    "X_train,X_test,y_train,y_test = train_test_split(X_scaled,y,test_size=0.2,random_state = 42)\n",
    "\n",
    "# save splits for later\n",
    "import joblib\n",
    "joblib.dump((X_train, X_test, y_train, y_test), \"../data/processed/train_test_split.pkl\")\n"
   ]
  }
 ],
 "metadata": {
  "kernelspec": {
   "display_name": "Python(BloodLink)",
   "language": "python",
   "name": "bloodlink-env"
  },
  "language_info": {
   "codemirror_mode": {
    "name": "ipython",
    "version": 3
   },
   "file_extension": ".py",
   "mimetype": "text/x-python",
   "name": "python",
   "nbconvert_exporter": "python",
   "pygments_lexer": "ipython3",
   "version": "3.12.5"
  }
 },
 "nbformat": 4,
 "nbformat_minor": 5
}
