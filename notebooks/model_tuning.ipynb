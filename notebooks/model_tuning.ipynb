{
 "cells": [
  {
   "cell_type": "code",
   "execution_count": 5,
   "id": "4868397a",
   "metadata": {},
   "outputs": [
    {
     "name": "stdout",
     "output_type": "stream",
     "text": [
      "Best Logistic Regression params: {'C': 10, 'penalty': 'l2', 'solver': 'lbfgs'}\n",
      "Best CV accuracy:  0.7440766073871409\n",
      "Test Accuracy (Logistic):  0.7663551401869159\n"
     ]
    }
   ],
   "source": [
    "import pandas as pd\n",
    "import joblib\n",
    "from sklearn.model_selection import GridSearchCV\n",
    "from sklearn.linear_model import LogisticRegression\n",
    "from sklearn.ensemble import RandomForestClassifier\n",
    "from sklearn.metrics import accuracy_score\n",
    "\n",
    "#Load Data splits\n",
    "X_train, X_test, y_train, y_test = joblib.load(\"../data/processed/train_test_split.pkl\")\n",
    "\n",
    "#Logistic Regression Grid\n",
    "log_reg_grid = {\n",
    "    \"C\":[0.01,0.1,1,10], # regularization strength\n",
    "    \"penalty\":[\"l2\"], # 'l1' can be used with saga solver\n",
    "    \"solver\":[\"lbfgs\",\"saga\"]\n",
    "}\n",
    "\n",
    "log_reg = LogisticRegression(max_iter=1000)\n",
    "grid_search = GridSearchCV(log_reg, log_reg_grid, cv=5, n_jobs=-1)\n",
    "grid_search.fit(X_train,y_train)\n",
    "\n",
    "print(\"Best Logistic Regression params:\", grid_search.best_params_)\n",
    "print(\"Best CV accuracy: \", grid_search.best_score_)\n",
    "\n",
    "#Evaluate on test\n",
    "y_pred = grid_search.predict(X_test)\n",
    "print(\"Test Accuracy (Logistic): \",accuracy_score(y_test, y_pred))"
   ]
  },
  {
   "cell_type": "code",
   "execution_count": 7,
   "id": "43a49711",
   "metadata": {},
   "outputs": [
    {
     "data": {
      "text/plain": [
       "['../models/best_model.pkl']"
      ]
     },
     "execution_count": 7,
     "metadata": {},
     "output_type": "execute_result"
    }
   ],
   "source": [
    "#Save the best estimator from grid search\n",
    "joblib.dump(grid_search.best_estimator_,\"../models/best_model.pkl\")"
   ]
  }
 ],
 "metadata": {
  "kernelspec": {
   "display_name": "Python(BloodLink)",
   "language": "python",
   "name": "bloodlink-env"
  },
  "language_info": {
   "codemirror_mode": {
    "name": "ipython",
    "version": 3
   },
   "file_extension": ".py",
   "mimetype": "text/x-python",
   "name": "python",
   "nbconvert_exporter": "python",
   "pygments_lexer": "ipython3",
   "version": "3.12.5"
  }
 },
 "nbformat": 4,
 "nbformat_minor": 5
}
