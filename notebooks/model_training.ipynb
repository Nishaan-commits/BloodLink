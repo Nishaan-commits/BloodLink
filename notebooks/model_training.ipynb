{
 "cells": [
  {
   "cell_type": "code",
   "execution_count": 2,
   "id": "397f1b1f",
   "metadata": {},
   "outputs": [
    {
     "name": "stdout",
     "output_type": "stream",
     "text": [
      "Accuracy. 0.7663551401869159\n",
      "\n",
      "Classification Report:\n",
      "               precision    recall  f1-score   support\n",
      "\n",
      "           0       0.79      0.94      0.86        80\n",
      "           1       0.58      0.26      0.36        27\n",
      "\n",
      "    accuracy                           0.77       107\n",
      "   macro avg       0.69      0.60      0.61       107\n",
      "weighted avg       0.74      0.77      0.73       107\n",
      "\n",
      "\n",
      "Confusion Matrix:\n",
      " [[75  5]\n",
      " [20  7]]\n"
     ]
    },
    {
     "data": {
      "text/plain": [
       "['../models/logistic_regression_model.pkl']"
      ]
     },
     "execution_count": 2,
     "metadata": {},
     "output_type": "execute_result"
    }
   ],
   "source": [
    "import joblib\n",
    "from sklearn.linear_model import LogisticRegression\n",
    "from sklearn.metrics import accuracy_score,classification_report,confusion_matrix\n",
    "\n",
    "#Load train-test splits\n",
    "X_train, X_test, y_train, y_test = joblib.load(\"../data/processed/train_test_split.pkl\")\n",
    "\n",
    "#initialize and train model\n",
    "model = LogisticRegression(random_state=42)\n",
    "model.fit(X_train, y_train)\n",
    "\n",
    "#Predict\n",
    "y_pred = model.predict(X_test)\n",
    "\n",
    "#Evaluate\n",
    "print(\"Accuracy.\", accuracy_score(y_test, y_pred))\n",
    "print(\"\\nClassification Report:\\n\", classification_report(y_test, y_pred))\n",
    "print(\"\\nConfusion Matrix:\\n\",confusion_matrix(y_test,y_pred))\n",
    "\n",
    "#Save Model\n",
    "joblib.dump(model, \"../models/logistic_regression_model.pkl\")"
   ]
  },
  {
   "cell_type": "code",
   "execution_count": 4,
   "id": "9550702d",
   "metadata": {},
   "outputs": [
    {
     "name": "stdout",
     "output_type": "stream",
     "text": [
      "Logistic Regression Accuracy: 0.7664\n",
      "Random Forest Accuracy: 0.6262\n",
      "SVM Accuracy: 0.7196\n"
     ]
    }
   ],
   "source": [
    "#Trying out Random Forest and Support Vector Machine Models\n",
    "\n",
    "from sklearn.ensemble import RandomForestClassifier\n",
    "from sklearn.svm import SVC\n",
    "\n",
    "models = {\"Logistic Regression\": LogisticRegression(random_state=42),\n",
    "          \"Random Forest\": RandomForestClassifier(random_state=42),\n",
    "          \"SVM\":SVC(random_state=42)\n",
    "        }\n",
    "for name,model in models.items():\n",
    "    model.fit(X_train,y_train)\n",
    "    y_pred = model.predict(X_test)\n",
    "    acc = accuracy_score(y_test, y_pred)\n",
    "    print(f\"{name} Accuracy: {acc:.4f}\")"
   ]
  }
 ],
 "metadata": {
  "kernelspec": {
   "display_name": "Python(BloodLink)",
   "language": "python",
   "name": "bloodlink-env"
  },
  "language_info": {
   "codemirror_mode": {
    "name": "ipython",
    "version": 3
   },
   "file_extension": ".py",
   "mimetype": "text/x-python",
   "name": "python",
   "nbconvert_exporter": "python",
   "pygments_lexer": "ipython3",
   "version": "3.12.5"
  }
 },
 "nbformat": 4,
 "nbformat_minor": 5
}
